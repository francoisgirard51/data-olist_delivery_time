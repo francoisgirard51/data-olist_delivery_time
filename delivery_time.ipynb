{
 "cells": [
  {
   "cell_type": "code",
   "execution_count": null,
   "metadata": {},
   "outputs": [],
   "source": [
    "import seaborn as sns\n",
    "import pandas as pd\n",
    "import numpy as np\n",
    "import matplotlib.pyplot as plt\n",
    "import statsmodels.formula.api as smf\n",
    "import statsmodels.api as sm"
   ]
  },
  {
   "cell_type": "markdown",
   "metadata": {},
   "source": [
    "# Improving Olist's Estimated Delivery Time (ETA)"
   ]
  },
  {
   "cell_type": "markdown",
   "metadata": {},
   "source": [
    "👉 `Estimated Time of Arrival (ETA)` is a key component of modern e-commerce services. It allows companies to manage customer expectations by showing a predicted date for customer delivery.\n",
    "\n",
    "🎯 In this challenge, we will build a predictive model that `estimates the wait time` of an order.\n",
    "\n",
    "☑️ Olist already has its own predictions under the variable `expected_wait_time`\n",
    "\n",
    "🚀 Let's challenge ourselves to do better predictions and at the end of this recap, \n",
    "we will compare:\n",
    "* our `estimated_wait_time`\n",
    "* Olist's `expected_wait_time`\n",
    "* the real `wait_time` for each order delivered"
   ]
  },
  {
   "cell_type": "markdown",
   "metadata": {},
   "source": [
    "## Load and check `orders` dataset"
   ]
  },
  {
   "cell_type": "markdown",
   "metadata": {},
   "source": [
    "👉 `Order().get_training_data()` (include `distance_seller_customer`)"
   ]
  },
  {
   "cell_type": "code",
   "execution_count": null,
   "metadata": {},
   "outputs": [],
   "source": [
    "from olist.order import Order\n",
    "orders = Order().get_training_data(with_distance_seller_customer=True)"
   ]
  },
  {
   "cell_type": "code",
   "execution_count": null,
   "metadata": {},
   "outputs": [],
   "source": [
    "orders.head(3)"
   ]
  },
  {
   "cell_type": "code",
   "execution_count": null,
   "metadata": {},
   "outputs": [],
   "source": [
    "orders.info()"
   ]
  },
  {
   "cell_type": "markdown",
   "metadata": {},
   "source": [
    "## Baseline Model - Olist’s current ETA model"
   ]
  },
  {
   "cell_type": "markdown",
   "metadata": {},
   "source": [
    "🐣  What's the baseline we want to optimize ❓\n",
    "\n",
    "👉 The delta between Olist' `expected_wait_time` and the real `wait_time`\n",
    "\n",
    "📈 Plot their respective histograms"
   ]
  },
  {
   "cell_type": "code",
   "execution_count": null,
   "metadata": {
    "tags": [
     "challengify"
    ]
   },
   "outputs": [],
   "source": [
    "# YOUR CODE HERE"
   ]
  },
  {
   "cell_type": "markdown",
   "metadata": {},
   "source": [
    "👉 What is the median wait time ? the median expected wait time ? "
   ]
  },
  {
   "cell_type": "code",
   "execution_count": null,
   "metadata": {
    "tags": [
     "challengify"
    ]
   },
   "outputs": [],
   "source": [
    "# YOUR CODE HERE"
   ]
  },
  {
   "cell_type": "markdown",
   "metadata": {},
   "source": [
    "👉 Compute the baseline RMSE \n",
    "\n",
    "ℹ️ The errors considered here are the misapproximations from Olist in terms of waiting time."
   ]
  },
  {
   "cell_type": "code",
   "execution_count": null,
   "metadata": {
    "tags": [
     "challengify"
    ]
   },
   "outputs": [],
   "source": [
    "# YOUR CODE HERE"
   ]
  },
  {
   "cell_type": "markdown",
   "metadata": {},
   "source": [
    "## OLS multivariate model"
   ]
  },
  {
   "cell_type": "markdown",
   "metadata": {},
   "source": [
    "👉 We will create an OLS model using the `statsmodel.api.OLS` method this time.\n",
    "\n",
    "(instead of `statsmodel.formula.api.ols`) "
   ]
  },
  {
   "cell_type": "markdown",
   "metadata": {},
   "source": [
    "### Prepare the dataset with the  features X and the target Y"
   ]
  },
  {
   "cell_type": "code",
   "execution_count": null,
   "metadata": {
    "tags": [
     "challengify"
    ]
   },
   "outputs": [],
   "source": [
    "# YOUR CODE HERE"
   ]
  },
  {
   "cell_type": "markdown",
   "metadata": {},
   "source": [
    "⚖️ Standardize (`z-score`) each feature of X to compare regression coefficients that will result from the OLS:"
   ]
  },
  {
   "cell_type": "code",
   "execution_count": null,
   "metadata": {
    "tags": [
     "challengify"
    ]
   },
   "outputs": [],
   "source": [
    "# YOUR CODE HERE"
   ]
  },
  {
   "cell_type": "code",
   "execution_count": null,
   "metadata": {},
   "outputs": [],
   "source": [
    "# Check how different is it from the \"formula\" in statsmodel\n",
    "import patsy\n",
    "patsy.dmatrix('price + distance_seller_customer', orders)"
   ]
  },
  {
   "cell_type": "markdown",
   "metadata": {},
   "source": [
    "⚠️ With this `statsmodel.api.OLS`, we always need to add a constant \"intercept\" to the features dataset:"
   ]
  },
  {
   "cell_type": "code",
   "execution_count": null,
   "metadata": {
    "tags": [
     "challengify"
    ]
   },
   "outputs": [],
   "source": [
    "# YOUR CODE HERE"
   ]
  },
  {
   "cell_type": "markdown",
   "metadata": {},
   "source": [
    "### Run OLS with `statsmodels` and print `summary`"
   ]
  },
  {
   "cell_type": "code",
   "execution_count": null,
   "metadata": {
    "tags": [
     "challengify"
    ]
   },
   "outputs": [],
   "source": [
    "# YOUR CODE HERE"
   ]
  },
  {
   "cell_type": "markdown",
   "metadata": {},
   "source": [
    "## Check the performance of your OLS model"
   ]
  },
  {
   "cell_type": "markdown",
   "metadata": {},
   "source": [
    "### Goodness of fit"
   ]
  },
  {
   "cell_type": "markdown",
   "metadata": {},
   "source": [
    "👉 Who has the best predictions, you or Olist ? \n",
    "\n",
    "- Compute your predictions and store them in `y_pred`\n",
    "\n",
    "- You can store :\n",
    "    - Olist's predictions in a `y_expected_olist` variable\n",
    "    - the real waiting times in a `y_true` variable\n",
    "\n"
   ]
  },
  {
   "cell_type": "code",
   "execution_count": null,
   "metadata": {
    "tags": [
     "challengify"
    ]
   },
   "outputs": [],
   "source": [
    "# YOUR CODE HERE"
   ]
  },
  {
   "cell_type": "markdown",
   "metadata": {},
   "source": [
    "📈 Plot `y_pred`, `y_expected_olist` and `y_true` on the same graph."
   ]
  },
  {
   "cell_type": "code",
   "execution_count": null,
   "metadata": {
    "tags": [
     "challengify"
    ]
   },
   "outputs": [],
   "source": [
    "# YOUR CODE HERE"
   ]
  },
  {
   "cell_type": "markdown",
   "metadata": {},
   "source": [
    "👉 Compute the RMSE where the errors are now *your* errors !"
   ]
  },
  {
   "cell_type": "code",
   "execution_count": null,
   "metadata": {
    "tags": [
     "challengify"
    ]
   },
   "outputs": [],
   "source": [
    "# YOUR CODE HERE"
   ]
  },
  {
   "cell_type": "markdown",
   "metadata": {},
   "source": [
    "Just as a reminder, Olist's RMSE was equal to : 👇"
   ]
  },
  {
   "cell_type": "code",
   "execution_count": null,
   "metadata": {},
   "outputs": [],
   "source": [
    "baseline_RMSE"
   ]
  },
  {
   "cell_type": "markdown",
   "metadata": {},
   "source": [
    "😏 Did we really beat Olist's Data Scientists ? We cannot really say that!\n",
    "\n",
    "- In many e-commerce and delivery services, the ETA is often overestimated...\n",
    "- When customers receive their orders earlier than expected, they are more likely to be satisfied !"
   ]
  },
  {
   "cell_type": "markdown",
   "metadata": {},
   "source": [
    "### Partial correlations\n",
    "\n",
    "👉 Visualize partial correlations with `sm.graphics.plot_partregress_grid`"
   ]
  },
  {
   "cell_type": "code",
   "execution_count": null,
   "metadata": {
    "tags": [
     "challengify"
    ]
   },
   "outputs": [],
   "source": [
    "# YOUR CODE HERE"
   ]
  },
  {
   "cell_type": "markdown",
   "metadata": {},
   "source": [
    "**How do we read these graphs ?**\n",
    "\n",
    "👉 Let's focus - for instance - on the graph in the bottom left corner:\n",
    "\n",
    "<u>Partial regression of `wait_time` against `distance`</u>\n",
    "\n",
    "- Each point is an order in our dataset\n",
    "\n",
    "\n",
    "- `y-axis`: residuals of the `wait_time`, using all features except `distance`\n",
    "\n",
    "    - These residuals contain the remaining information about `wait_time` that couldn't be explained without `distance`\n",
    "\n",
    "\n",
    "- `x-axis`: residuals of predicting `distance` by using all other features (price, freight_value, etc...)\n",
    "    - These residuals contain the new information that `distance` brings to the table, which is not already explained by the other features in the model.\n",
    "\n"
   ]
  },
  {
   "cell_type": "markdown",
   "metadata": {},
   "source": [
    "### Inferential conditions"
   ]
  },
  {
   "cell_type": "markdown",
   "metadata": {},
   "source": [
    "⚠️ Check you residuals. Are they normally distributed?"
   ]
  },
  {
   "cell_type": "code",
   "execution_count": null,
   "metadata": {
    "tags": [
     "challengify"
    ]
   },
   "outputs": [],
   "source": [
    "# YOUR CODE HERE"
   ]
  },
  {
   "cell_type": "markdown",
   "metadata": {},
   "source": [
    "🎁 A more precise way to visualize whether a distribution is Gaussian or not is the <a href=\"https://www.statsmodels.org/stable/generated/statsmodels.graphics.gofplots.qqplot.html\">**`QQplot`**</a>. \n",
    "\n",
    "📈 Plot the QQplot of your residual below\n",
    "\n",
    "💡 Make sure to understand the relation between the QQ plot and the density previsouly drawn..\n",
    "\n",
    "📚 <a href=\"https://stats.stackexchange.com/questions/101274/how-to-interpret-a-qq-plot\">Stats.StackExchange.com - Interpreting QQplots</a>\n",
    "\n",
    "- `x-axis` : theoretical quantiles of a Gaussian distribution\n",
    "- `y-axis`: quantiles of the sorted variable\n",
    "\n",
    "💡 If the <span style=\"color:blue\">blue</span> points are aligned on the <span style=\"color:red\">red line</span> which is the identity function, the variable has a Gaussian distribution !"
   ]
  },
  {
   "cell_type": "code",
   "execution_count": null,
   "metadata": {},
   "outputs": [],
   "source": [
    "sm.qqplot(residuals_lewagon, line='s');"
   ]
  },
  {
   "cell_type": "markdown",
   "metadata": {},
   "source": [
    "#### Some QQplot examples:"
   ]
  },
  {
   "cell_type": "markdown",
   "metadata": {},
   "source": [
    "Run the cells below to understand how QQ plots are graphed:"
   ]
  },
  {
   "cell_type": "code",
   "execution_count": null,
   "metadata": {},
   "outputs": [],
   "source": [
    "from scipy import stats \n",
    "stats.norm.rvs(0,1)"
   ]
  },
  {
   "cell_type": "code",
   "execution_count": null,
   "metadata": {
    "slideshow": {
     "slide_type": "skip"
    }
   },
   "outputs": [],
   "source": [
    "# lets check QQ plots with our own distributions\n",
    "from scipy import stats\n",
    "\n",
    "norm_1 = [stats.norm.rvs(0,1) for x in range(1000)]\n",
    "norm_2 = [stats.norm.rvs(5,1) for x in range(1000)]\n",
    "\n",
    "sns.kdeplot(norm_1)\n",
    "sns.kdeplot(norm_2)\n",
    "plt.xlim(right=10)"
   ]
  },
  {
   "cell_type": "code",
   "execution_count": null,
   "metadata": {
    "slideshow": {
     "slide_type": "skip"
    }
   },
   "outputs": [],
   "source": [
    "sm.qqplot(np.asarray(norm_1), line='s');"
   ]
  },
  {
   "cell_type": "code",
   "execution_count": null,
   "metadata": {},
   "outputs": [],
   "source": [
    "bimodal = norm_1 + norm_2\n",
    "sns.kdeplot(bimodal)\n",
    "plt.xlim(right=10)"
   ]
  },
  {
   "cell_type": "code",
   "execution_count": null,
   "metadata": {
    "slideshow": {
     "slide_type": "skip"
    }
   },
   "outputs": [],
   "source": [
    "sm.qqplot(np.asarray(bimodal), line='s');"
   ]
  },
  {
   "attachments": {},
   "cell_type": "markdown",
   "metadata": {},
   "source": [
    "<img src=\"https://wagon-public-datasets.s3.amazonaws.com/04-Decision-Science/03-Linear-Regression/qq_plot_interpretation.png\" width=400>"
   ]
  },
  {
   "cell_type": "markdown",
   "metadata": {},
   "source": [
    "#### Check residuals vs. fitted to see if we can detect any non-random pattern"
   ]
  },
  {
   "cell_type": "code",
   "execution_count": null,
   "metadata": {},
   "outputs": [],
   "source": [
    "sns.scatterplot(x = y_pred, y = residuals_lewagon, alpha=0.01)\n",
    "plt.xlim(xmin=0, xmax=50)"
   ]
  },
  {
   "cell_type": "markdown",
   "metadata": {},
   "source": [
    "## More Features? (Optional)"
   ]
  },
  {
   "cell_type": "markdown",
   "metadata": {},
   "source": [
    "Here we can add additional features from the product details (size, category etc..)"
   ]
  },
  {
   "cell_type": "markdown",
   "metadata": {},
   "source": [
    "### Add product details associated with each order (sum of product sizes, sum of weights etc...)"
   ]
  },
  {
   "cell_type": "code",
   "execution_count": null,
   "metadata": {},
   "outputs": [],
   "source": [
    "from olist.data import Olist\n",
    "data = Olist().get_data()\n",
    "products = data['products']\n",
    "order_items = data['order_items']"
   ]
  },
  {
   "cell_type": "code",
   "execution_count": null,
   "metadata": {
    "tags": []
   },
   "outputs": [],
   "source": [
    "order_items_products = (\n",
    "    order_items.groupby([\"order_id\", \"product_id\"], as_index=False)\n",
    "    .agg({\"order_item_id\": \"count\"})\n",
    "    .rename(columns={\"order_item_id\": \"order_item_count\"})\n",
    "    .merge(products.drop([\"product_category_name\"], axis=1), on=\"product_id\")\n",
    ")\n",
    "order_items_products"
   ]
  },
  {
   "cell_type": "code",
   "execution_count": null,
   "metadata": {},
   "outputs": [],
   "source": [
    "# Since we want the sum of product weights per order from our new DataFrame, we need to multiply weight by product count\n",
    "order_items_products['product_weight_g'] = order_items_products['product_weight_g'] *  order_items_products['order_item_count']\n",
    "\n",
    "order_items_features = order_items_products.groupby(\"order_id\", as_index=False).agg(\n",
    "    {\n",
    "        \"product_weight_g\": \"sum\",\n",
    "        \"product_length_cm\": \"max\",\n",
    "        \"product_height_cm\": \"max\",\n",
    "        \"product_width_cm\": \"max\",\n",
    "    }).rename(columns={\n",
    "        \"product_weight_g\": \"product_weight_g_sum\",\n",
    "        \"product_length_cm\": \"product_length_cm_max\",\n",
    "        \"product_height_cm\": \"product_height_cm_max\",\n",
    "        \"product_width_cm\": \"product_width_cm_max\",\n",
    "    })\n",
    "order_items_features"
   ]
  },
  {
   "cell_type": "code",
   "execution_count": null,
   "metadata": {},
   "outputs": [],
   "source": [
    "orders_with_details = orders.merge(order_items_features, on=\"order_id\", how=\"left\").dropna()"
   ]
  },
  {
   "cell_type": "code",
   "execution_count": null,
   "metadata": {},
   "outputs": [],
   "source": [
    "X2 = orders_with_details[[\n",
    "        \"number_of_products\",\n",
    "        \"number_of_sellers\",\n",
    "        \"price\",\n",
    "        \"freight_value\",\n",
    "        \"distance_seller_customer\",\n",
    "        \"product_weight_g_sum\",\n",
    "        \"product_length_cm_max\",\n",
    "        \"product_height_cm_max\",\n",
    "        \"product_width_cm_max\"]].copy()\n",
    "y2 = orders_with_details[\"wait_time\"].copy()"
   ]
  },
  {
   "cell_type": "code",
   "execution_count": null,
   "metadata": {},
   "outputs": [],
   "source": [
    "# standardize (z-normalize) each features of X to compare coefficients\n",
    "for f in X2.columns:\n",
    "    mu = X2[f].mean()\n",
    "    sigma = X2[f].std()\n",
    "    X2[f] = X2[f].map(lambda x: (x - mu) / sigma)"
   ]
  },
  {
   "cell_type": "code",
   "execution_count": null,
   "metadata": {},
   "outputs": [],
   "source": [
    "X2['constant'] = 1"
   ]
  },
  {
   "cell_type": "code",
   "execution_count": null,
   "metadata": {},
   "outputs": [],
   "source": [
    "model2 = sm.OLS(y2, X2).fit()"
   ]
  },
  {
   "cell_type": "code",
   "execution_count": null,
   "metadata": {},
   "outputs": [],
   "source": [
    "model2.summary()"
   ]
  }
 ],
 "metadata": {
  "kernelspec": {
   "display_name": "Python 3",
   "language": "python",
   "name": "python3"
  }
 },
 "nbformat": 4,
 "nbformat_minor": 4
}
